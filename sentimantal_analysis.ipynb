{
  "nbformat": 4,
  "nbformat_minor": 0,
  "metadata": {
    "colab": {
      "name": "sentimantal analysis",
      "provenance": [],
      "include_colab_link": true
    },
    "kernelspec": {
      "name": "python3",
      "display_name": "Python 3"
    }
  },
  "cells": [
    {
      "cell_type": "markdown",
      "metadata": {
        "id": "view-in-github",
        "colab_type": "text"
      },
      "source": [
        "<a href=\"https://colab.research.google.com/github/anushka-2001/Muse/blob/main/sentimantal_analysis.ipynb\" target=\"_parent\"><img src=\"https://colab.research.google.com/assets/colab-badge.svg\" alt=\"Open In Colab\"/></a>"
      ]
    },
    {
      "cell_type": "code",
      "metadata": {
        "id": "9muJsvVHVohX",
        "colab": {
          "base_uri": "https://localhost:8080/"
        },
        "outputId": "7d19dfc7-861e-42ad-c81d-354fd32ce1f2"
      },
      "source": [
        "!pip install nltk\r\n",
        "import nltk\r\n",
        "nltk.download('punkt')\r\n",
        "nltk.download('wordnet')\r\n",
        "nltk.download('stopwords')\r\n",
        "nltk.download('twitter_samples')\r\n",
        "nltk.download('averaged_perceptron_tagger')"
      ],
      "execution_count": 30,
      "outputs": [
        {
          "output_type": "stream",
          "text": [
            "Requirement already satisfied: nltk in /usr/local/lib/python3.6/dist-packages (3.2.5)\n",
            "Requirement already satisfied: six in /usr/local/lib/python3.6/dist-packages (from nltk) (1.15.0)\n",
            "[nltk_data] Downloading package punkt to /root/nltk_data...\n",
            "[nltk_data]   Package punkt is already up-to-date!\n",
            "[nltk_data] Downloading package wordnet to /root/nltk_data...\n",
            "[nltk_data]   Unzipping corpora/wordnet.zip.\n",
            "[nltk_data] Downloading package stopwords to /root/nltk_data...\n",
            "[nltk_data]   Unzipping corpora/stopwords.zip.\n",
            "[nltk_data] Downloading package twitter_samples to /root/nltk_data...\n",
            "[nltk_data]   Unzipping corpora/twitter_samples.zip.\n",
            "[nltk_data] Downloading package averaged_perceptron_tagger to\n",
            "[nltk_data]     /root/nltk_data...\n",
            "[nltk_data]   Unzipping taggers/averaged_perceptron_tagger.zip.\n"
          ],
          "name": "stdout"
        },
        {
          "output_type": "execute_result",
          "data": {
            "text/plain": [
              "True"
            ]
          },
          "metadata": {
            "tags": []
          },
          "execution_count": 30
        }
      ]
    },
    {
      "cell_type": "code",
      "metadata": {
        "id": "EnMPkGaJJomW"
      },
      "source": [
        "import random\r\n",
        "from nltk import classify, pos_tag\r\n",
        "from nltk.tokenize import word_tokenize\r\n",
        "from nltk.corpus import stopwords\r\n",
        "from nltk.corpus import twitter_samples\r\n",
        "from nltk.stem.wordnet import WordNetLemmatizer\r\n",
        "from nltk.classify.naivebayes import NaiveBayesClassifier"
      ],
      "execution_count": 31,
      "outputs": []
    },
    {
      "cell_type": "code",
      "metadata": {
        "colab": {
          "base_uri": "https://localhost:8080/"
        },
        "id": "fE3gCPKSWMn9",
        "outputId": "74b88883-ed7c-48dd-d35b-be2102136975"
      },
      "source": [
        "#tokenizer\r\n",
        "def format_sentence(sent):\r\n",
        "  return({word: True for word in nltk.word_tokenize(sent)})\r\n",
        "#example\r\n",
        "format_sentence('how are you')\r\n"
      ],
      "execution_count": 32,
      "outputs": [
        {
          "output_type": "execute_result",
          "data": {
            "text/plain": [
              "{'are': True, 'how': True, 'you': True}"
            ]
          },
          "metadata": {
            "tags": []
          },
          "execution_count": 32
        }
      ]
    },
    {
      "cell_type": "code",
      "metadata": {
        "colab": {
          "base_uri": "https://localhost:8080/"
        },
        "id": "gueAqyaCJncb",
        "outputId": "8bb027b1-f652-4eb7-d69b-6b20650ff39f"
      },
      "source": [
        "positive = twitter_samples.strings('positive_tweets.json')\r\n",
        "negative = twitter_samples.strings('negative_tweets.json')\r\n",
        "stop_words = list(set(stopwords.words('english')))\r\n",
        "print(positive[0])"
      ],
      "execution_count": 34,
      "outputs": [
        {
          "output_type": "stream",
          "text": [
            "#FollowFriday @France_Inte @PKuchly57 @Milipol_Paris for being top engaged members in my community this week :)\n"
          ],
          "name": "stdout"
        }
      ]
    },
    {
      "cell_type": "code",
      "metadata": {
        "id": "wLQLleapJ4JK"
      },
      "source": [
        "def clean(tokens):\r\n",
        "    tokens = [x for x in tokens if not x in stop_words]\r\n",
        "\r\n",
        "    l = WordNetLemmatizer()\r\n",
        "    lemmatized = []\r\n",
        "\r\n",
        "    for word, tag in pos_tag(tokens):\r\n",
        "        if tag.startswith('NN'):\r\n",
        "            pos = 'n'\r\n",
        "        elif tag.startswith('VB'):\r\n",
        "            pos = 'v'\r\n",
        "        else:\r\n",
        "            pos = 'a'\r\n",
        "        lemmatized.append(l.lemmatize(word, pos))\r\n",
        "    return lemmatized\r\n",
        "positive_clean = []\r\n",
        "negative_clean = []\r\n",
        "\r\n",
        "for token in positive_tokens:\r\n",
        "    positive_clean.append(clean(token))\r\n",
        "\r\n",
        "for token in negative_tokens:\r\n",
        "    negative_clean.append(clean(token))"
      ],
      "execution_count": 38,
      "outputs": []
    },
    {
      "cell_type": "code",
      "metadata": {
        "id": "D4jMpdNhKTNx"
      },
      "source": [
        "def final_token_generator(tokens):\r\n",
        "    for tokens in tokens:\r\n",
        "        yield dict([token, True] for token in tokens)\r\n",
        "\r\n",
        "positive_model_tokens = final_token_generator(positive_clean)\r\n",
        "negative_model_tokens = final_token_generator(negative_clean)"
      ],
      "execution_count": 39,
      "outputs": []
    },
    {
      "cell_type": "code",
      "metadata": {
        "id": "1mFHEAk_KXpH"
      },
      "source": [
        "positive_dataset = [(token, \"Positive\") for token in positive_model_tokens]\r\n",
        "negative_dataset = [(token, \"Negative\") for token in negative_model_tokens]"
      ],
      "execution_count": 40,
      "outputs": []
    },
    {
      "cell_type": "code",
      "metadata": {
        "id": "Rr1zPSlqKcUZ"
      },
      "source": [
        "dataset = positive_dataset + negative_dataset\r\n",
        "\r\n",
        "random.shuffle(dataset)\r\n",
        "random.shuffle(dataset)\r\n",
        "random.shuffle(dataset)\r\n",
        "\r\n",
        "training = dataset[:7000]\r\n",
        "testing = dataset[7000:]"
      ],
      "execution_count": 41,
      "outputs": []
    },
    {
      "cell_type": "code",
      "metadata": {
        "id": "iZQdbRKdKgaP"
      },
      "source": [
        "classifier = NaiveBayesClassifier.train(training)\r\n"
      ],
      "execution_count": 42,
      "outputs": []
    },
    {
      "cell_type": "code",
      "metadata": {
        "colab": {
          "base_uri": "https://localhost:8080/"
        },
        "id": "hdoJC7sZKkg9",
        "outputId": "60e12537-b935-4b31-9226-5aa98252f395"
      },
      "source": [
        "print(\"Accuracy:\", classify.accuracy(classifier, testing))\r\n",
        "print(classifier.show_most_informative_features(10))"
      ],
      "execution_count": 43,
      "outputs": [
        {
          "output_type": "stream",
          "text": [
            "Accuracy: 0.997\n",
            "Most Informative Features\n",
            "                      :( = True           Negati : Positi =   2052.5 : 1.0\n",
            "                      :) = True           Positi : Negati =    987.2 : 1.0\n",
            "                follower = True           Positi : Negati =     34.4 : 1.0\n",
            "                  THANKS = True           Negati : Positi =     29.0 : 1.0\n",
            "                     sad = True           Negati : Positi =     28.6 : 1.0\n",
            "                     See = True           Positi : Negati =     27.0 : 1.0\n",
            "                  Thanks = True           Positi : Negati =     18.7 : 1.0\n",
            "                     TOO = True           Negati : Positi =     18.2 : 1.0\n",
            "                    THAT = True           Negati : Positi =     17.0 : 1.0\n",
            "                   Thank = True           Positi : Negati =     16.5 : 1.0\n",
            "None\n"
          ],
          "name": "stdout"
        }
      ]
    },
    {
      "cell_type": "code",
      "metadata": {
        "id": "75WJwEPkWTGZ"
      },
      "source": [
        "def analyze(input):\r\n",
        "    custom_tokens = clean(word_tokenize(input))\r\n",
        "    return classifier.classify(dict([token, True] for token in custom_tokens))"
      ],
      "execution_count": 44,
      "outputs": []
    },
    {
      "cell_type": "code",
      "metadata": {
        "id": "yrlt_CqsWdaM"
      },
      "source": [
        "def change_emote(self, event):\r\n",
        "    result = self.analyzer.analyze(self.text_field.get())\r\n",
        "    if result == 'Positive':\r\n",
        "        self.emote['text'] = self.positive\r\n",
        "    elif result == 'Negative':\r\n",
        "        self.emote['text'] = self.negative\r\n",
        "    else:\r\n",
        "        self.emote['text'] = self.neutral"
      ],
      "execution_count": 45,
      "outputs": []
    },
    {
      "cell_type": "code",
      "metadata": {
        "id": "7NOkIcrDWhrp",
        "colab": {
          "base_uri": "https://localhost:8080/"
        },
        "outputId": "44feb8a7-c205-4848-ef5a-b60e0d6f619e"
      },
      "source": [
        "answer= analyze(input(\"enter a sentence\"))\r\n",
        "print(answer)"
      ],
      "execution_count": 48,
      "outputs": [
        {
          "output_type": "stream",
          "text": [
            "enter a sentencebright sunny day\n",
            "Positive\n"
          ],
          "name": "stdout"
        }
      ]
    }
  ]
}